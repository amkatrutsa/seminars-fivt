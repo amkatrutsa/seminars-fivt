{
 "cells": [
  {
   "cell_type": "markdown",
   "metadata": {
    "slideshow": {
     "slide_type": "slide"
    }
   },
   "source": [
    "# Семинар 12 \n",
    "# Полуопределённое программирование (SDP)"
   ]
  },
  {
   "cell_type": "markdown",
   "metadata": {
    "slideshow": {
     "slide_type": "slide"
    }
   },
   "source": [
    "## На прошлом семинаре\n",
    "\n",
    "- Линейное программирование\n",
    "- Существование и локализация решения\n",
    "- Симплекс-метод\n",
    "- Сложность"
   ]
  },
  {
   "cell_type": "markdown",
   "metadata": {
    "slideshow": {
     "slide_type": "slide"
    }
   },
   "source": [
    "## Вид задачи линейного программирования\n",
    "\n",
    "\\begin{align*}\n",
    "& \\min c^{\\top}x\\\\\n",
    "\\text{s.t. } & Ax = b\\\\\n",
    "& x \\geq 0\n",
    "\\end{align*}"
   ]
  },
  {
   "cell_type": "markdown",
   "metadata": {
    "slideshow": {
     "slide_type": "slide"
    }
   },
   "source": [
    "## \"Коническая\" формулировка\n",
    "\n",
    "\\begin{align*}\n",
    "& \\min c^{\\top}x\\\\\n",
    "\\text{s.t. } & Ax = b\\\\\n",
    "& x \\in \\mathbb{R}^n_+\n",
    "\\end{align*}"
   ]
  },
  {
   "cell_type": "markdown",
   "metadata": {
    "slideshow": {
     "slide_type": "slide"
    }
   },
   "source": [
    "## Конус положительно полуопределённых матриц\n",
    "\n",
    "- $\\mathbb{S}^n_{+} = \\{ X \\in \\mathbb{R}^{n \\times n} \\; | \\; X = X^{\\top}, X \\succeq 0 \\}$\n",
    "- Выпуклый конус"
   ]
  },
  {
   "cell_type": "markdown",
   "metadata": {
    "slideshow": {
     "slide_type": "slide"
    }
   },
   "source": [
    "## Задача полуопределённого программирования\n",
    "\n",
    "\\begin{align*}\n",
    "& \\min c^{\\top}x\\\\\n",
    "\\text{s.t. } & F_0 + \\sum_{i=1}^p x_i F_i \\succeq 0\n",
    "\\end{align*}\n",
    "\n",
    "- Выпуклая\n",
    "- **Q:** какая геометрия у этой задачи?"
   ]
  },
  {
   "cell_type": "markdown",
   "metadata": {
    "slideshow": {
     "slide_type": "slide"
    }
   },
   "source": [
    "### Сведение задачи линейного программирования к SDP\n",
    "\n",
    "- Была задача линейного программирования в виде\n",
    "\n",
    "\\begin{align*}\n",
    "& \\min c^{\\top}x\\\\\n",
    "\\text{s.t. } & Ax + b \\geq 0\n",
    "\\end{align*}\n",
    "\n",
    "- Обозначим \n",
    "    - $F_0 = diag(b)$\n",
    "    - $F_i = diag(a_i)$\n",
    "    \n",
    "- Получили задачу SDP\n",
    "\n",
    "\\begin{align*}\n",
    "& \\min c^{\\top}x\\\\\n",
    "\\text{s.t. } & F(x) = F_0 + \\sum_{i=1}^n x_i F_i \\succeq 0\n",
    "\\end{align*}"
   ]
  },
  {
   "cell_type": "markdown",
   "metadata": {
    "slideshow": {
     "slide_type": "slide"
    }
   },
   "source": [
    "## Пример SDP задачи не сводимой к LP\n",
    "\n",
    "- Рассмотрим задачу\n",
    "\n",
    "\\begin{align*}\n",
    "& \\min_x \\frac{\\langle c, x \\rangle^2}{\\langle d, x \\rangle}\\\\\n",
    "\\text{s.t. } & Ax + b \\geq 0,\n",
    "\\end{align*}\n",
    "где $d^{\\top}x > 0$\n",
    "\n",
    "- Введём вспомогательную переменную $t$\n",
    "\n",
    "\\begin{align*}\n",
    "& \\min_{x, t} t \\\\\n",
    "\\text{s.t. } & Ax + b \\geq 0\\\\\n",
    "& \\frac{\\langle c, x \\rangle^2}{\\langle d, x \\rangle} \\leq t\n",
    "\\end{align*}\n",
    "\n",
    "-  Запишем **нелинейное** ограничение как **линейное** матричное неравенство\n",
    "\n",
    "\\begin{align*}\n",
    "& \\min t\\\\\n",
    "\\text{s.t. } & \\begin{bmatrix} diag(Ax + b) & 0 & 0\\\\ 0 & t & c^{\\top}x\\\\ 0 & c^{\\top}x & d^{\\top}x   \\end{bmatrix} \\succeq 0\n",
    "\\end{align*}"
   ]
  },
  {
   "cell_type": "markdown",
   "metadata": {
    "slideshow": {
     "slide_type": "slide"
    }
   },
   "source": [
    "### Дополнение по Шуру\n",
    "\n",
    "- Пусть дана блочная матрица \n",
    "\n",
    "$$ M = \n",
    "\\begin{bmatrix}\n",
    "A & B\\\\\n",
    "C & D\n",
    "\\end{bmatrix}\n",
    "$$\n",
    "\n",
    "- Тогда дополнением по Шуру блока $D$ называется матрица $A - BD^{-1}C$\n",
    "- Аналогично дополнение по Шуру блока $A$ - $D - CA^{-1}B$\n",
    "\n",
    "**Теорема** Симметричная матрица $M \\succeq 0 $ $\\iff$ $D \\succeq 0$ и дополнение по Шуру $A - BD^{-1}B^{\\top} \\succeq 0$\n",
    "\n",
    "**Применение**\n",
    "\n",
    "Матрица $$ \\begin{bmatrix} t & c^{\\top}x \\\\ c^{\\top}x & d^{\\top}x \\end{bmatrix} \\succeq 0$$ iff $d^{\\top}x \\geq 0$ и $t - \\frac{(c^{\\top}x)^2}{d^{\\top}x} \\geq 0$, что доказывает справедливость записи задачи на предыдущем слайде\n",
    "\n",
    "- Использование свойства дополнения по Шуру является ключевым этапом при формулировании задач SDP"
   ]
  },
  {
   "cell_type": "markdown",
   "metadata": {
    "slideshow": {
     "slide_type": "slide"
    }
   },
   "source": [
    "## Двойственная задача\n",
    "\n",
    "На доске покажем, что двойственная задача имеет вид\n",
    "\n",
    "\\begin{align*}\n",
    "& \\max -trace(F_0 Z)\\\\\n",
    "\\text{s.t. } & trace(F_i Z) = c_i\\\\\n",
    "& Z \\succeq 0\n",
    "\\end{align*}\n",
    "\n",
    "- Сравните с задачей линейного программирования в каноническом виде"
   ]
  },
  {
   "cell_type": "markdown",
   "metadata": {
    "slideshow": {
     "slide_type": "slide"
    }
   },
   "source": [
    "### Отличие от задачи линейного программирования\n",
    "\n",
    "- Нет метода, который бы находил решение за конечное число шагов\n",
    "- Аналог симплекс-метода не работает\n",
    "- Используют методы внутренней точки (следующий семинар)\n",
    "- Возможен ненулевой, но конечный зазор двойственности"
   ]
  },
  {
   "cell_type": "markdown",
   "metadata": {
    "slideshow": {
     "slide_type": "slide"
    }
   },
   "source": [
    "## Теоремы о сильной двойственности\n",
    "\n",
    "- LP\n",
    "\n",
    "    **Теорема.**\n",
    "\n",
    "    - Если прямая (двойственная) задачи имеет конечное решение, то конечное решение имеет и двойственная (прямая) и значения целевых функций совпадают\n",
    "    - Если прямая (двойственная) задача неограничена, то допустимое множество двойственной (прямой) задачи пусто.\n",
    "- SDP\n",
    "\n",
    "    **Теорема**\n",
    "    Для SDP задачи выполнена сильная двойственность, если выполнено одно из следующих условий\n",
    "    - Прямая задача строго допустима, т.е. существует $x$ такой что $F(x) \\succ 0$\n",
    "    - Двойственная задача строго допустима, т.е. существует $Z = Z^{\\top} \\succ 0$ и $trace(ZF_i) = c_i$\n"
   ]
  },
  {
   "cell_type": "markdown",
   "metadata": {
    "slideshow": {
     "slide_type": "slide"
    }
   },
   "source": [
    "### Критерий Сильвестра для определения положительной полуопределённости матрицы\n",
    "\n",
    "- **Теорема.** \n",
    "Квадратная матрица положительно полуопределена $\\iff$ все её ведущие миноры неотрицательны\n",
    "- Пример: матрица $\\begin{bmatrix} a & b \\\\ c & d \\end{bmatrix} \\succeq 0 \\iff a \\geq 0, d \\geq 0, ad - bc \\geq 0$"
   ]
  },
  {
   "cell_type": "markdown",
   "metadata": {
    "slideshow": {
     "slide_type": "slide"
    }
   },
   "source": [
    "### Пример\n",
    "\n",
    "- Прямая задача\n",
    "\n",
    "\\begin{align*}\n",
    "& \\min x_1\\\\\n",
    "\\text{s.t. } & \\begin{bmatrix} 0 & x_1 & 0 \\\\ x_1 & x_2 & 0 \\\\ 0 & 0 & x_1 + 1\\end{bmatrix} \\succeq 0\n",
    "\\end{align*}\n",
    "- Допустимое множество $\\{(x_1, x_2) \\; | \\; x_1 = 0, \\; x_2 \\geq 0 \\}$\n",
    "- Ответ $p^* = 0$\n",
    " <br>\n",
    "- Двойственная задача\n",
    "\\begin{align*}\n",
    "& \\max -z_2\\\\\n",
    "\\text{s.t. } & \\begin{bmatrix}z_1 & (1 - z_2) / 2 & 0 \\\\ (1 - z_2) / 2 & 0 & 0 \\\\ 0 & 0 & z_2 \\end{bmatrix} \\succeq 0\n",
    "\\end{align*}\n",
    "- Допустимое множество $\\{ (z_1, z_2) \\; | \\; z_1 \\geq 0, \\; z_2 = 1 \\}$\n",
    "- Ответ $d^* = -1$"
   ]
  },
  {
   "cell_type": "markdown",
   "metadata": {
    "slideshow": {
     "slide_type": "slide"
    }
   },
   "source": [
    "### Дополняющая нежёсткость\n",
    "\n",
    "Пусть $Z$ и $x$ допустимы, тогда \n",
    "- $c^{\\top}x + trace(ZF_0) = \\sum_{i=1}^n x_i trace(ZF_i) + trace(ZF_0) = trace(ZF(x)) > 0$\n",
    "- Из допустимости следует, что $Z \\succeq 0$ и $F(x) \\succeq 0$\n",
    "- Тогда $ZF(x) = 0$ - условие дополняющей нежёсткости\n",
    "- Сравните это условие с условием дополняющей нежёсткости в задаче, где переменная вектор"
   ]
  },
  {
   "cell_type": "markdown",
   "metadata": {
    "slideshow": {
     "slide_type": "slide"
    }
   },
   "source": [
    "## Откуда такие задачи могут взяться?\n",
    "\n",
    "1. Минимизация спектрального радиуса\n",
    "2. Поиск оптимального эллипсоида\n",
    "3. Оценка ковариационных матриц в статистике\n",
    "4. Релаксация комбинаторных задач\n",
    "5. Теория управления и линейные матричные неравенства"
   ]
  },
  {
   "cell_type": "markdown",
   "metadata": {
    "slideshow": {
     "slide_type": "slide"
    }
   },
   "source": [
    "## Пример 1: минимизация спектрального радиуса\n",
    "\n",
    "- Пусть $A(x) = A_0 + x_1A_1 + \\ldots + x_kA_k$, где $A_j = A^{\\top}_j$ для всех $j=1,\\ldots,k$ \n",
    "- Тогда задача\n",
    "\n",
    "$$\n",
    "\\min_{x} \\lambda_{\\max}(A(x))\n",
    "$$\n",
    "\n",
    "может быть записана как\n",
    "\n",
    "\\begin{align*}\n",
    "& \\min_{x, t} t\\\\\n",
    "\\text{s.t. } & tI - A(x) \\succeq 0\n",
    "\\end{align*}"
   ]
  },
  {
   "cell_type": "markdown",
   "metadata": {
    "slideshow": {
     "slide_type": "slide"
    }
   },
   "source": [
    "### Случай несимметричной матрицы\n",
    "\n",
    "- Теперь $A_i$ не обязательно симметричные и вместо максимального **собственного** значения необходимо минимизировать максимальное **сингулярное** значение\n",
    "\n",
    "$$\n",
    "\\min_x \\sigma_{\\max}(A(x))\n",
    "$$\n",
    "\n",
    "- Такую задачу также можно записать в виде задачи полуопределённой оптимизации\n",
    "\n",
    "\\begin{align*}\n",
    "& \\min_{x, t} t\\\\\n",
    "\\text{s.t. } & \\begin{bmatrix} tI & A(x)\\\\ A^{\\top}(x) & tI \\end{bmatrix} \\succeq 0\n",
    "\\end{align*}"
   ]
  },
  {
   "cell_type": "markdown",
   "metadata": {
    "slideshow": {
     "slide_type": "slide"
    }
   },
   "source": [
    "### Приложения\n",
    "\n",
    "- Теория управления\n",
    "- Комбинаторная оптимизация\n",
    "- Теория графов"
   ]
  },
  {
   "cell_type": "code",
   "execution_count": 26,
   "metadata": {
    "slideshow": {
     "slide_type": "slide"
    }
   },
   "outputs": [
    {
     "name": "stdout",
     "output_type": "stream",
     "text": [
      "----------------------------------------------------------------------------\n",
      "\tSCS v1.2.6 - Splitting Conic Solver\n",
      "\t(c) Brendan O'Donoghue, Stanford University, 2012-2016\n",
      "----------------------------------------------------------------------------\n",
      "Lin-sys: sparse-indirect, nnz in A = 120, CG tol ~ 1/iter^(2.00)\n",
      "eps = 1.00e-03, alpha = 1.50, max_iters = 2500, normalize = 1, scale = 1.00\n",
      "Variables n = 3, constraints m = 55\n",
      "Cones:\tsd vars: 55, sd blks: 1\n",
      "Setup time: 6.50e-04s\n",
      "----------------------------------------------------------------------------\n",
      " Iter | pri res | dua res | rel gap | pri obj | dua obj | kap/tau | time (s)\n",
      "----------------------------------------------------------------------------\n",
      "     0| 1.17e-01  5.65e-01  2.44e-01  1.08e+00  2.11e+00  4.23e-16  1.48e-03 \n",
      "    20| 6.80e-06  7.15e-05  7.79e-06  1.00e+00  1.00e+00  4.04e-16  2.16e-03 \n",
      "----------------------------------------------------------------------------\n",
      "Status: Solved\n",
      "Timing: Solve time: 2.17e-03s\n",
      "\tLin-sys: avg # CG iterations: 1.52, avg solve time: 1.35e-06s\n",
      "\tCones: avg projection time: 3.47e-05s\n",
      "----------------------------------------------------------------------------\n",
      "Error metrics:\n",
      "dist(s, K) = 3.3335e-10, dist(y, K*) = 1.4818e-09, s'y/|s||y| = -5.6159e-01\n",
      "|Ax + s - b|_2 / (1 + |b|_2) = 6.7952e-06\n",
      "|A'y + c|_2 / (1 + |c|_2) = 7.1500e-05\n",
      "|c'x + b'y| / (1 + |c'x| + |b'y|) = 7.7876e-06\n",
      "----------------------------------------------------------------------------\n",
      "c'x = 1.0000, -b'y = 1.0000\n",
      "============================================================================\n",
      "[-2.18360142e-07 -2.35040638e-07]\n",
      "3.0025051502937052\n"
     ]
    }
   ],
   "source": [
    "import numpy as np\n",
    "import cvxpy as cvx\n",
    "import matplotlib.pyplot as plt\n",
    "%matplotlib inline\n",
    "\n",
    "p = 2\n",
    "n = 10\n",
    "x = cvx.Variable(p)\n",
    "t = cvx.Variable()\n",
    "A0 = np.eye(n)\n",
    "Abase = [(-1)**i * np.random.randn(n, n) for i in range(p)]\n",
    "A = [B + B.T for B in Abase]\n",
    "problem = cvx.Problem(cvx.Minimize(t), [t * np.eye(n) - A0 - cvx.sum([x[i] * A[i] for i in range(p)]) >> 0])\n",
    "problem.solve(verbose=True)\n",
    "print(x.value)\n",
    "print(prob.value)"
   ]
  },
  {
   "cell_type": "markdown",
   "metadata": {
    "slideshow": {
     "slide_type": "slide"
    }
   },
   "source": [
    "## Пример 2: поиск оптимального эллипсоида (The L&ouml;wner-John ellipsoid)\n",
    "\n",
    "**Задача**: дан набор точек на плоскости $x_i \\in \\mathbb{R}^2$, необходимо найти эллипс минимальной площади, такой что все точки $x_i$ лежат внутри него. \n",
    "\n",
    "**Параметры**: эллипс можно задать аффинным преобразованием\n",
    "\n",
    "$$\n",
    "\\{x \\; | \\; \\| x \\|^2_2 \\leq 1\\} \\to \\{ u \\;| \\; \\|u\\|^2_2 \\leq 1, \\; u = Ax + b\\}\n",
    "$$\n",
    "\n",
    "Тогда площадь увеличивается в $\\det (A^{-1})$ раз. \n",
    "\n",
    "- Детерминант не является выпуклой/вогнутой функцией\n",
    "- $\\log\\det(A^{-1}) = -\\log\\det(A)$ - выпуклая функция при $A \\in \\mathbb{S}^n_{++}$"
   ]
  },
  {
   "cell_type": "markdown",
   "metadata": {
    "slideshow": {
     "slide_type": "slide"
    }
   },
   "source": [
    "### Задача минимизации\n",
    "\n",
    "$$\n",
    "\\begin{align*}\n",
    "& \\min_{A, b} -\\log\\det(A)\\\\\n",
    "\\text{s.t. } & \\|Ax_i + b\\| \\leq 1\\\\\n",
    "& A \\succ 0\n",
    "\\end{align*}\n",
    "$$"
   ]
  },
  {
   "cell_type": "code",
   "execution_count": 3,
   "metadata": {
    "slideshow": {
     "slide_type": "slide"
    }
   },
   "outputs": [
    {
     "data": {
      "text/plain": [
       "<matplotlib.collections.PathCollection at 0x11ad97c18>"
      ]
     },
     "execution_count": 3,
     "metadata": {},
     "output_type": "execute_result"
    },
    {
     "data": {
      "image/png": "[encoded data removed]",
      "text/plain": [
       "<Figure size 720x504 with 1 Axes>"
      ]
     },
     "metadata": {},
     "output_type": "display_data"
    }
   ],
   "source": [
    "num_points = 50\n",
    "n = 2\n",
    "X = 2 * np.random.randn(n, num_points)\n",
    "plt.figure(figsize=(10, 7))\n",
    "plt.scatter(X[0, :], X[1, :], s=90)"
   ]
  },
  {
   "cell_type": "code",
   "execution_count": 5,
   "metadata": {
    "slideshow": {
     "slide_type": "slide"
    }
   },
   "outputs": [],
   "source": [
    "A = cvx.Variable((n,n), PSD=True)\n",
    "b = cvx.Variable((n,))\n",
    "prob = cvx.Problem(cvx.Minimize(-cvx.log_det(A)), \n",
    "                   [cvx.norm(A * X[:, i] + b) <= 1 for i in range(num_points)])"
   ]
  },
  {
   "cell_type": "code",
   "execution_count": 6,
   "metadata": {
    "slideshow": {
     "slide_type": "slide"
    }
   },
   "outputs": [
    {
     "name": "stdout",
     "output_type": "stream",
     "text": [
      "----------------------------------------------------------------------------\n",
      "\tSCS v1.2.6 - Splitting Conic Solver\n",
      "\t(c) Brendan O'Donoghue, Stanford University, 2012-2016\n",
      "----------------------------------------------------------------------------\n",
      "Lin-sys: sparse-indirect, nnz in A = 447, CG tol ~ 1/iter^(2.00)\n",
      "eps = 1.00e-03, alpha = 1.50, max_iters = 2500, normalize = 1, scale = 1.00\n",
      "Variables n = 73, constraints m = 237\n",
      "Cones:\tprimal zero / dual free vars: 15\n",
      "\tlinear vars: 50\n",
      "\tsoc vars: 150, soc blks: 50\n",
      "\tsd vars: 16, sd blks: 3\n",
      "\texp vars: 6, dual exp vars: 0\n",
      "Setup time: 1.30e-02s\n",
      "----------------------------------------------------------------------------\n",
      " Iter | pri res | dua res | rel gap | pri obj | dua obj | kap/tau | time (s)\n",
      "----------------------------------------------------------------------------\n",
      "     0| 2.09e+00  1.79e+00  9.21e-01 -8.79e+00  2.80e+00  5.99e-15  1.33e-01 \n",
      "   100| 1.59e-02  1.74e-03  3.21e-03  2.79e+00  2.81e+00  9.99e-16  1.41e-01 \n",
      "   200| 1.06e-02  4.45e-04  1.72e-03  2.92e+00  2.93e+00  1.15e-15  1.43e-01 \n",
      "   300| 9.00e-03  3.11e-03  9.54e-04  2.97e+00  2.98e+00  1.25e-15  1.46e-01 \n",
      "   400| 3.44e-03  2.02e-03  4.65e-04  3.00e+00  3.00e+00  1.30e-15  1.48e-01 \n",
      "   500| 1.08e-03  9.94e-04  1.30e-04  3.00e+00  3.00e+00  1.32e-15  1.51e-01 \n",
      "   540| 9.04e-04  5.36e-04  1.23e-04  3.00e+00  3.00e+00  1.33e-15  1.52e-01 \n",
      "----------------------------------------------------------------------------\n",
      "Status: Solved\n",
      "Timing: Solve time: 1.52e-01s\n",
      "\tLin-sys: avg # CG iterations: 5.06, avg solve time: 9.51e-06s\n",
      "\tCones: avg projection time: 2.66e-04s\n",
      "----------------------------------------------------------------------------\n",
      "Error metrics:\n",
      "dist(s, K) = 3.7580e-15, dist(y, K*) = 1.4753e-09, s'y/|s||y| = 8.9681e-10\n",
      "|Ax + s - b|_2 / (1 + |b|_2) = 9.0450e-04\n",
      "|A'y + c|_2 / (1 + |c|_2) = 5.3556e-04\n",
      "|c'x + b'y| / (1 + |c'x| + |b'y|) = 1.2292e-04\n",
      "----------------------------------------------------------------------------\n",
      "c'x = 3.0025, -b'y = 3.0034\n",
      "============================================================================\n"
     ]
    },
    {
     "data": {
      "text/plain": [
       "3.0025051502937052"
      ]
     },
     "execution_count": 6,
     "metadata": {},
     "output_type": "execute_result"
    }
   ],
   "source": [
    "prob.solve(verbose=True)"
   ]
  },
  {
   "cell_type": "code",
   "execution_count": 7,
   "metadata": {
    "slideshow": {
     "slide_type": "slide"
    }
   },
   "outputs": [
    {
     "data": {
      "text/plain": [
       "[<matplotlib.lines.Line2D at 0x11f98da90>]"
      ]
     },
     "execution_count": 7,
     "metadata": {},
     "output_type": "execute_result"
    },
    {
     "data": {
      "image/png": "[encoded data removed]",
      "text/plain": [
       "<Figure size 720x504 with 1 Axes>"
      ]
     },
     "metadata": {},
     "output_type": "display_data"
    }
   ],
   "source": [
    "L = np.linalg.inv(A.value)\n",
    "plt.figure(figsize=(10, 7))\n",
    "plt.scatter(X[0, :], X[1, :])\n",
    "phi = np.linspace(0, 2 * np.pi, num=100)\n",
    "xy = np.vstack((np.cos(phi) - b.value[0], np.sin(phi) - b.value[1]))\n",
    "ellips = L.dot(xy)\n",
    "plt.plot(ellips[0, :], ellips[1, :])"
   ]
  },
  {
   "cell_type": "markdown",
   "metadata": {
    "slideshow": {
     "slide_type": "slide"
    }
   },
   "source": [
    "### Разделение точек эллипсоидом\n",
    "\n",
    "- Есть набор точек $x_i$, которые разделены на два класса $\\{ +1, -1\\}$\n",
    "- Задача найти такой эллипсоид, что точки одного класса лежат внутри, а другие - снаружи\n",
    "- Также хочется сделать эллипсоид как можно более сферичным\n",
    "- Возможны другие целевые функции"
   ]
  },
  {
   "cell_type": "code",
   "execution_count": 41,
   "metadata": {
    "slideshow": {
     "slide_type": "slide"
    }
   },
   "outputs": [
    {
     "data": {
      "text/plain": [
       "<matplotlib.collections.PathCollection at 0x125f7b5c0>"
      ]
     },
     "execution_count": 41,
     "metadata": {},
     "output_type": "execute_result"
    },
    {
     "data": {
      "image/png": "[encoded data removed]",
      "text/plain": [
       "<Figure size 432x288 with 1 Axes>"
      ]
     },
     "metadata": {},
     "output_type": "display_data"
    }
   ],
   "source": [
    "import sklearn.datasets as skldata\n",
    "\n",
    "X, y = skldata.make_gaussian_quantiles(n_classes=2, cov=np.array([[1, 0], [0, 30]]))\n",
    "y = 2 * y - 1\n",
    "plt.scatter(X[:, 0], X[:, 1], c=y)"
   ]
  },
  {
   "cell_type": "code",
   "execution_count": 42,
   "metadata": {
    "slideshow": {
     "slide_type": "slide"
    }
   },
   "outputs": [
    {
     "name": "stdout",
     "output_type": "stream",
     "text": [
      "----------------------------------------------------------------------------\n",
      "\tSCS v1.2.6 - Splitting Conic Solver\n",
      "\t(c) Brendan O'Donoghue, Stanford University, 2012-2016\n",
      "----------------------------------------------------------------------------\n",
      "Lin-sys: sparse-indirect, nnz in A = 611, CG tol ~ 1/iter^(2.00)\n",
      "eps = 1.00e-03, alpha = 1.50, max_iters = 2500, normalize = 1, scale = 1.00\n",
      "Variables n = 7, constraints m = 109\n",
      "Cones:\tlinear vars: 100\n",
      "\tsd vars: 9, sd blks: 3\n",
      "Setup time: 5.08e-04s\n",
      "----------------------------------------------------------------------------\n",
      " Iter | pri res | dua res | rel gap | pri obj | dua obj | kap/tau | time (s)\n",
      "----------------------------------------------------------------------------\n",
      "     0| 3.45e+01  3.96e+01  9.96e-01 -5.71e+00  2.19e+02  2.55e-14  6.65e-04 \n",
      "   100| 1.46e-01  1.01e-01  4.70e-03  9.98e-01  9.84e-01  1.20e-16  1.78e-03 \n",
      "   200| 2.70e-04  2.01e-04  1.46e-05  1.00e+00  1.00e+00  1.20e-16  2.76e-03 \n",
      "----------------------------------------------------------------------------\n",
      "Status: Solved\n",
      "Timing: Solve time: 2.77e-03s\n",
      "\tLin-sys: avg # CG iterations: 5.82, avg solve time: 8.97e-06s\n",
      "\tCones: avg projection time: 1.42e-07s\n",
      "----------------------------------------------------------------------------\n",
      "Error metrics:\n",
      "dist(s, K) = 2.7089e-17, dist(y, K*) = 0.0000e+00, s'y/|s||y| = -3.8154e-20\n",
      "|Ax + s - b|_2 / (1 + |b|_2) = 2.7002e-04\n",
      "|A'y + c|_2 / (1 + |c|_2) = 2.0108e-04\n",
      "|c'x + b'y| / (1 + |c'x| + |b'y|) = 1.4550e-05\n",
      "----------------------------------------------------------------------------\n",
      "c'x = 1.0000, -b'y = 1.0001\n",
      "============================================================================\n"
     ]
    },
    {
     "data": {
      "text/plain": [
       "1.0000163182786554"
      ]
     },
     "execution_count": 42,
     "metadata": {},
     "output_type": "execute_result"
    }
   ],
   "source": [
    "A = cvx.Variable(shape=(2, 2), PSD=True)\n",
    "b = cvx.Variable(2)\n",
    "c = cvx.Variable()\n",
    "gamma = cvx.Variable()\n",
    "constr = [np.eye(2) - A << 0,\n",
    "          A - gamma * np.eye(2) << 0,\n",
    "          ]\n",
    "\n",
    "for i in range(X.shape[0]):\n",
    "    if y[i] == 1:\n",
    "        constr.append(cvx.quad_form(X[i, :], A) + b * X[i, :] + c >= 0)\n",
    "    elif y[i] == -1:\n",
    "        constr.append(cvx.quad_form(X[i, :], A) + b * X[i, :] + c <= 0)\n",
    "\n",
    "problem = cvx.Problem(cvx.Minimize(gamma), constraints=constr)\n",
    "problem.solve(verbose=True)"
   ]
  },
  {
   "cell_type": "code",
   "execution_count": 67,
   "metadata": {
    "slideshow": {
     "slide_type": "slide"
    }
   },
   "outputs": [
    {
     "name": "stderr",
     "output_type": "stream",
     "text": [
      "/Users/alex/anaconda3/envs/cvxpy/lib/python3.6/site-packages/ipykernel_launcher.py:2: RuntimeWarning: invalid value encountered in sqrt\n",
      "  \n"
     ]
    },
    {
     "data": {
      "text/plain": [
       "array([[nan, nan],\n",
       "       [nan, nan]])"
      ]
     },
     "execution_count": 67,
     "metadata": {},
     "output_type": "execute_result"
    }
   ],
   "source": [
    "eigval, eigvec = np.linalg.eigh(A.value / c.value)\n",
    "M = np.transpose(eigvec * np.sqrt(eigval))\n",
    "M.T.dot(M) - A.value"
   ]
  },
  {
   "cell_type": "code",
   "execution_count": 66,
   "metadata": {},
   "outputs": [],
   "source": [
    "d = np.linalg.solve(M.T, b.value / c.value)"
   ]
  },
  {
   "cell_type": "code",
   "execution_count": 65,
   "metadata": {
    "slideshow": {
     "slide_type": "slide"
    }
   },
   "outputs": [
    {
     "data": {
      "text/plain": [
       "[<matplotlib.lines.Line2D at 0x12708bbe0>]"
      ]
     },
     "execution_count": 65,
     "metadata": {},
     "output_type": "execute_result"
    },
    {
     "data": {
      "image/png": "[encoded data removed]",
      "text/plain": [
       "<Figure size 720x504 with 1 Axes>"
      ]
     },
     "metadata": {},
     "output_type": "display_data"
    }
   ],
   "source": [
    "plt.figure(figsize=(10, 7))\n",
    "plt.scatter(X[:, 0], X[:, 1], c=y)\n",
    "phi = np.linspace(0, 2 * np.pi, num=100)\n",
    "xy = np.vstack((np.cos(phi) - d[0] / 2, np.sin(phi) - d[1] / 2))\n",
    "ellips = M.dot(xy)\n",
    "plt.plot(ellips[0, :], ellips[1, :])"
   ]
  },
  {
   "cell_type": "markdown",
   "metadata": {
    "slideshow": {
     "slide_type": "slide"
    }
   },
   "source": [
    "## Применение SDP для поиска приближённых решений невыпуклых задач\n",
    "\n",
    "- Рассмотрим такую задачу\n",
    "\n",
    "\\begin{align*}\n",
    "& \\min f_0(x)\\\\\n",
    "\\text{s.t. } & f_i(x) \\leq 0,\n",
    "\\end{align*}\n",
    "\n",
    "где $f_i(x) = x^{\\top}A_ix + 2 b^{\\top}_i x + c_i$, но матрицы $A_i$ неопределены\n",
    "\n",
    "- Для получение SDP задачи, которая даёт оценку снизу на решение исходной задачи запишем $f_i(x)$ в таком виде\n",
    "\n",
    "$$\n",
    "f_i(x) = \\begin{bmatrix} x \\\\ 1 \\end{bmatrix}^{\\top} \\begin{bmatrix} A_i & b_i\\\\ b^{\\top}_i & c_i \\end{bmatrix} \\begin{bmatrix} x \\\\ 1 \\end{bmatrix}  \\leq 0\n",
    "$$\n",
    "\n",
    "- Теперь проанализируем решение следующей задачи\n",
    "\n",
    "\\begin{align*}\n",
    "& \\max t\\\\\n",
    "\\text{s.t. } & \\tau_i \\geq 0\\\\\n",
    "& \\begin{bmatrix} A_0 & b_0 \\\\ b_0^{\\top} & c_0 - t \\end{bmatrix} + \\tau_1 \\begin{bmatrix} A_1 & b_1 \\\\ b_1^{\\top} & c_1 \\end{bmatrix} + \\ldots + \\tau_M \\begin{bmatrix} A_M & b_M \\\\ b_M^{\\top} & c_M \\end{bmatrix} \\succeq 0\n",
    "\\end{align*}\n",
    "- Пусть $x$ допустимая точка в исходной задаче, а $t, \\tau_1, \\ldots, \\tau_M$ допустимые точки для введённой задаче, тогда\n",
    "\n",
    "\\begin{align*}\n",
    "& 0 \\leq \\begin{bmatrix} x \\\\ 1 \\end{bmatrix}^{\\top} \\left(\\begin{bmatrix} A_0 & b_0\\\\ b_0 & c_0 - t \\end{bmatrix} + \\tau_1 \\begin{bmatrix} A_1 & b_1\\\\ b^{\\top}_1 & c_1 \\end{bmatrix} \\ldots + \\tau_M \\begin{bmatrix} A_M & b_M \\\\ b_M^{\\top} & c_M \\end{bmatrix}\\right) \\begin{bmatrix} x \\\\ 1 \\end{bmatrix} = \\\\\n",
    "& f_0(x) - t + \\tau_1 f_1(x) + \\ldots + \\tau_Mf_M(x) \\leq f_0(x) - t\n",
    "\\end{align*}\n",
    "- Аналогичные постановки можно получить при рассмотрении двойственной задачи (подробности на доске)"
   ]
  },
  {
   "cell_type": "markdown",
   "metadata": {
    "slideshow": {
     "slide_type": "slide"
    }
   },
   "source": [
    "## Пример: задача о максимальном разрезе графа (MAXCUT)\n",
    "\n",
    "- Пусть $G = (V, E)$ - неориентированный взвешенный граф, веса рёбер $w_{ij}$\n",
    "- Задача поиска максимального разреза: найти подмножество вершин $S$, такое что сумма весов рёбер, исходящих из вершин этого поджмножества в вершины из его дополнения $V \\ S$ максимальна\n",
    "- Формально\n",
    "\\begin{align*}\n",
    "& \\max \\frac{1}{4}\\sum_{i,j=1}^n (1 - x_ix_j)w_{ij}\\\\\n",
    "\\text{s.t. } & x_i \\in \\{-1, +1 \\}\n",
    "\\end{align*}"
   ]
  },
  {
   "cell_type": "markdown",
   "metadata": {
    "slideshow": {
     "slide_type": "slide"
    }
   },
   "source": [
    "### SDP релаксация\n",
    "\n",
    "- $X = xx^{\\top} \\to X \\succeq xx^{\\top}$\n",
    "- $X_{ii} = 1$\n",
    "- SDP релаксация\n",
    "\\begin{align*}\n",
    "& \\max \\frac{1}{4} \\sum_{i,j=1}^n (1 - X_{ij})w_{ij}\\\\\n",
    "\\text{s.t. } & X_{ii} = 1\\\\\n",
    "& X \\succeq 0\n",
    "\\end{align*}"
   ]
  },
  {
   "cell_type": "markdown",
   "metadata": {
    "slideshow": {
     "slide_type": "slide"
    }
   },
   "source": [
    "### Алгоритм Goemans-Willimson'a ([оригинальная статья](https://www2.cs.duke.edu/courses/fall16/compsci532/reading/10.1.1.3.9509.pdf))\n",
    "\n",
    "- Алгоритм восстановления разреза из решения SDP релаксации\n",
    "- $X = V^{\\top}V$\n",
    "- Пусть $r$ - случайный вектор равномерно распределённый на сфере\n",
    "- $S = \\{i \\; | \\; r^{\\top}v_i \\geq 0 \\}$\n",
    "\n",
    "\n",
    "**Теорема**\n",
    "\n",
    "$$\n",
    "\\mathbb{E}(Cut) \\geq 0.876 \\cdot MAXCUT\n",
    "$$"
   ]
  },
  {
   "cell_type": "markdown",
   "metadata": {
    "slideshow": {
     "slide_type": "slide"
    }
   },
   "source": [
    "## Что ещё почитать\n",
    "\n",
    "- Обзор классических методов, [Semidefinite programming](http://web.stanford.edu/~boyd/papers/pdf/semidef_prog.pdf) by L. Vanderberghe and S. Boyd\n",
    "- Книга про использование в комбинаторной оптимизации, [ссылка](https://books.google.ru/books?hl=ru&lr=&id=4KezCwAAQBAJ&oi=fnd&pg=PP1&dq=semidefinite+programming&ots=wdX-fH3CuE&sig=8OnEgibAzo3OgksISjQltoBgmVg&redir_esc=y#v=onepage&q=semidefinite%20programming&f=false)"
   ]
  },
  {
   "cell_type": "markdown",
   "metadata": {
    "slideshow": {
     "slide_type": "slide"
    }
   },
   "source": [
    "## Резюме\n",
    "\n",
    "- Задача полуопределённого программирования: постановка и свойства\n",
    "- Двойственная задача к ней\n",
    "- Примеры приложений\n",
    "- Алгоритм Goemans-Williamson'a"
   ]
  }
 ],
 "metadata": {
  "celltoolbar": "Slideshow",
  "kernelspec": {
   "display_name": "Python 3 (cvxpy)",
   "language": "python",
   "name": "cvxpy"
  },
  "language_info": {
   "codemirror_mode": {
    "name": "ipython",
    "version": 3
   },
   "file_extension": ".py",
   "mimetype": "text/x-python",
   "name": "python",
   "nbconvert_exporter": "python",
   "pygments_lexer": "ipython3",
   "version": "3.6.4"
  }
 },
 "nbformat": 4,
 "nbformat_minor": 2
}
