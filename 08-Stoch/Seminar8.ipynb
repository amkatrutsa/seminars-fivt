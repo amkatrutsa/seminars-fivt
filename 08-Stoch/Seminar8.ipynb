{
 "cells": [
  {
   "cell_type": "markdown",
   "metadata": {
    "slideshow": {
     "slide_type": "slide"
    }
   },
   "source": [
    "# Семинар 8\n",
    "# Введение в стохастические методы"
   ]
  },
  {
   "cell_type": "markdown",
   "metadata": {
    "slideshow": {
     "slide_type": "slide"
    }
   },
   "source": [
    "## Постановка задачи\n",
    "\n",
    "$$\n",
    "\\min_x \\sum_{i=1}^N f_i(x)\n",
    "$$\n",
    "\n",
    "- Целевая функция - сумма конечного числа функций\n",
    "- $N$ может быть очень большим"
   ]
  },
  {
   "cell_type": "markdown",
   "metadata": {
    "collapsed": true,
    "slideshow": {
     "slide_type": "slide"
    }
   },
   "source": [
    "### Особенности задачи\n",
    "\n",
    "- Точное вычисление градиента занимает очень много времени\n",
    "- Высокая точность решения обычно не требуется\n",
    "- Допустимо введение случайности"
   ]
  },
  {
   "cell_type": "markdown",
   "metadata": {
    "collapsed": true,
    "slideshow": {
     "slide_type": "slide"
    }
   },
   "source": [
    "### Градиентный спуск\n",
    "\n",
    "$$\n",
    "x_{k+1} = x_{k} - \\alpha_k \\sum_{i=1}^N f_i'(x_k)\n",
    "$$\n",
    "- $\\alpha_k$ - малый шаг"
   ]
  },
  {
   "cell_type": "markdown",
   "metadata": {
    "slideshow": {
     "slide_type": "slide"
    }
   },
   "source": [
    "## SGD\n",
    "\n",
    "$$\n",
    "x_{k+1} = x_k - \\alpha_k \\sum_{i \\in \\mathcal{I}} f'_i(x_k)\n",
    "$$\n",
    "\n",
    "- $\\alpha_k = (1 - \\beta)\\alpha_0 + \\beta \\alpha_{s}$, $\\beta = \\frac{k}{\\tau}$\n",
    "\n",
    "Сходимость\n",
    "\n",
    "- Для выпуклых функций $\\mathcal{O}(1 / \\sqrt{k})$\n",
    "- Для сильно выпуклых функций $\\mathcal{O}(1 / k)$"
   ]
  },
  {
   "cell_type": "markdown",
   "metadata": {
    "slideshow": {
     "slide_type": "slide"
    }
   },
   "source": [
    "### Nesterov momentum\n",
    "\n",
    "$$\n",
    "\\begin{align*}\n",
    "& h_k = \\beta h_{k-1} - \\alpha_k \\sum_{i\\in \\mathcal{I}} f'_i(x_k + \\alpha_k h_k)\\\\\n",
    "& x_{k+1} = x_k + h_k\n",
    "\\end{align*}\n",
    "$$\n",
    "\n",
    "- Не приводит к ускорению!\n",
    "- Почему?"
   ]
  },
  {
   "cell_type": "markdown",
   "metadata": {
    "slideshow": {
     "slide_type": "slide"
    }
   },
   "source": [
    "## Adagrad\n",
    "\n",
    "\\begin{align*}\n",
    "& g_k = \\sum_{i \\in \\mathcal{I}} f'_i(x_k)\\\\\n",
    "& r = r + g_k \\cdot g_k\\\\\n",
    "& h_k = -\\frac{\\varepsilon}{\\delta + \\sqrt{r}} \\cdot g_k\\\\\n",
    "& x_{k+1} = x_k + h_k\n",
    "\\end{align*}\n",
    "\n",
    "- Диагональное шкалирование градиента\n",
    "- Учёт **всей** предыдущей истории для вычисления следующей точки\n",
    "- Не улучшает теоретические оценки сходимости"
   ]
  },
  {
   "cell_type": "markdown",
   "metadata": {
    "slideshow": {
     "slide_type": "slide"
    }
   },
   "source": [
    "## Adam\n",
    "\n",
    "\\begin{align*}\n",
    "& g_k = \\sum_{i \\in \\mathcal{I}} f'_i(x_k)\\\\\n",
    "& r = \\rho_2r + (1 - \\rho_2) g_k \\cdot g_k\\\\\n",
    "& s = \\rho_1 s + (1 - \\rho_1) g_k\\\\\n",
    "& \\hat{s} = \\frac{s}{1 - \\rho_1^k}\\\\\n",
    "& \\hat{r} = \\frac{r}{1 - \\rho_2^k}\\\\\n",
    "& h_k = -\\frac{\\varepsilon \\hat{s}}{\\delta + \\sqrt{\\hat{r}}} \\\\\n",
    "& x_{k+1} = x_k + h_k\n",
    "\\end{align*}"
   ]
  },
  {
   "cell_type": "markdown",
   "metadata": {
    "collapsed": true,
    "slideshow": {
     "slide_type": "slide"
    }
   },
   "source": [
    "## Приложения\n",
    "\n",
    "- Всё, что связано с нейросетями\n",
    "    - Компьютерное зрение\n",
    "    - Обучение с подкреплением\n",
    "    - GAN"
   ]
  },
  {
   "cell_type": "code",
   "execution_count": 1,
   "metadata": {
    "slideshow": {
     "slide_type": "slide"
    }
   },
   "outputs": [],
   "source": [
    "import torch\n",
    "import torch.nn as nn\n",
    "import torch.nn.functional as F\n",
    "import torch.optim as optim\n",
    "from torchvision import datasets, transforms\n",
    "import matplotlib.pyplot as plt\n",
    "%matplotlib inline\n",
    "from IPython import display"
   ]
  },
  {
   "cell_type": "code",
   "execution_count": 2,
   "metadata": {
    "slideshow": {
     "slide_type": "slide"
    }
   },
   "outputs": [],
   "source": [
    "class Net(nn.Module):\n",
    "    def __init__(self):\n",
    "        super(Net, self).__init__()\n",
    "        self.conv1 = nn.Conv2d(1, 10, kernel_size=5)\n",
    "        self.conv2 = nn.Conv2d(10, 20, kernel_size=5)\n",
    "        self.conv2_drop = nn.Dropout2d()\n",
    "        self.fc1 = nn.Linear(320, 50)\n",
    "        self.fc2 = nn.Linear(50, 10)\n",
    "\n",
    "    def forward(self, x):\n",
    "        x = F.relu(F.max_pool2d(self.conv1(x), 2))\n",
    "        x = F.relu(F.max_pool2d(self.conv2_drop(self.conv2(x)), 2))\n",
    "        x = x.view(-1, 320)\n",
    "        x = F.relu(self.fc1(x))\n",
    "        x = F.dropout(x, training=self.training)\n",
    "        x = self.fc2(x)\n",
    "        return F.log_softmax(x, dim=1)\n",
    "\n",
    "def train(model, train_loader, optimizer, epoch, log_interval):\n",
    "    model.train()\n",
    "    current_conv = []\n",
    "    for batch_idx, (data, target) in enumerate(train_loader):\n",
    "#         data, target = data.to(device), target.to(device)\n",
    "        optimizer.zero_grad()\n",
    "        output = model(data)\n",
    "        loss = F.nll_loss(output, target)\n",
    "        loss.backward()\n",
    "        current_conv.append(loss)\n",
    "        optimizer.step()\n",
    "        if batch_idx % log_interval == 0:\n",
    "            print('Train Epoch: {} [{}/{} ({:.0f}%)]\\tLoss: {:.6f}'.format(\n",
    "                epoch, batch_idx * len(data), len(train_loader.dataset),\n",
    "                100. * batch_idx / len(train_loader), loss.item()))\n",
    "    return current_conv\n",
    "\n",
    "def test(model, test_loader):\n",
    "    model.eval()\n",
    "    test_loss = 0\n",
    "    correct = 0\n",
    "    with torch.no_grad():\n",
    "        for data, target in test_loader:\n",
    "#             data, target = data.to(device), target.to(device)\n",
    "            output = model(data)\n",
    "            test_loss += F.nll_loss(output, target, reduce=True).item() # sum up batch loss\n",
    "            pred = output.max(1, keepdim=True)[1] # get the index of the max log-probability\n",
    "            correct += pred.eq(target.view_as(pred)).sum().item()\n",
    "\n",
    "    test_loss /= len(test_loader.dataset)\n",
    "    print('\\nTest set: Average loss: {:.4f}, Accuracy: {}/{} ({:.0f}%)\\n'.format(\n",
    "        test_loss, correct, len(test_loader.dataset),\n",
    "        100. * correct / len(test_loader.dataset)))"
   ]
  },
  {
   "cell_type": "code",
   "execution_count": 3,
   "metadata": {
    "slideshow": {
     "slide_type": "slide"
    }
   },
   "outputs": [
    {
     "name": "stdout",
     "output_type": "stream",
     "text": [
      "Downloading http://yann.lecun.com/exdb/mnist/train-images-idx3-ubyte.gz to ../data/MNIST/raw/train-images-idx3-ubyte.gz\n"
     ]
    },
    {
     "data": {
      "application/vnd.jupyter.widget-view+json": {
       "model_id": "8b0f6861785b4312b4f315a0d4812984",
       "version_major": 2,
       "version_minor": 0
      },
      "text/plain": [
       "HBox(children=(FloatProgress(value=1.0, bar_style='info', max=1.0), HTML(value='')))"
      ]
     },
     "metadata": {},
     "output_type": "display_data"
    },
    {
     "name": "stdout",
     "output_type": "stream",
     "text": [
      "Extracting ../data/MNIST/raw/train-images-idx3-ubyte.gz to ../data/MNIST/raw\n",
      "Downloading http://yann.lecun.com/exdb/mnist/train-labels-idx1-ubyte.gz to ../data/MNIST/raw/train-labels-idx1-ubyte.gz\n"
     ]
    },
    {
     "data": {
      "application/vnd.jupyter.widget-view+json": {
       "model_id": "5d246fa7403345efb28045f8739518cb",
       "version_major": 2,
       "version_minor": 0
      },
      "text/plain": [
       "HBox(children=(FloatProgress(value=1.0, bar_style='info', max=1.0), HTML(value='')))"
      ]
     },
     "metadata": {},
     "output_type": "display_data"
    },
    {
     "name": "stdout",
     "output_type": "stream",
     "text": [
      "Extracting ../data/MNIST/raw/train-labels-idx1-ubyte.gz to ../data/MNIST/raw\n",
      "Downloading http://yann.lecun.com/exdb/mnist/t10k-images-idx3-ubyte.gz to ../data/MNIST/raw/t10k-images-idx3-ubyte.gz\n",
      "\n"
     ]
    },
    {
     "data": {
      "application/vnd.jupyter.widget-view+json": {
       "model_id": "94a2909f286944af85ca2675d71c56b9",
       "version_major": 2,
       "version_minor": 0
      },
      "text/plain": [
       "HBox(children=(FloatProgress(value=1.0, bar_style='info', max=1.0), HTML(value='')))"
      ]
     },
     "metadata": {},
     "output_type": "display_data"
    },
    {
     "name": "stdout",
     "output_type": "stream",
     "text": [
      "Extracting ../data/MNIST/raw/t10k-images-idx3-ubyte.gz to ../data/MNIST/raw\n",
      "Downloading http://yann.lecun.com/exdb/mnist/t10k-labels-idx1-ubyte.gz to ../data/MNIST/raw/t10k-labels-idx1-ubyte.gz\n"
     ]
    },
    {
     "data": {
      "application/vnd.jupyter.widget-view+json": {
       "model_id": "132f8f86e27941cc90a2641db7c831eb",
       "version_major": 2,
       "version_minor": 0
      },
      "text/plain": [
       "HBox(children=(FloatProgress(value=1.0, bar_style='info', max=1.0), HTML(value='')))"
      ]
     },
     "metadata": {},
     "output_type": "display_data"
    },
    {
     "name": "stdout",
     "output_type": "stream",
     "text": [
      "Extracting ../data/MNIST/raw/t10k-labels-idx1-ubyte.gz to ../data/MNIST/raw\n",
      "Processing...\n"
     ]
    },
    {
     "name": "stderr",
     "output_type": "stream",
     "text": [
      "/Users/alex/anaconda3/envs/pytorch/lib/python3.6/site-packages/torchvision/datasets/mnist.py:480: UserWarning: The given NumPy array is not writeable, and PyTorch does not support non-writeable tensors. This means you can write to the underlying (supposedly non-writeable) NumPy array using the tensor. You may want to copy the array to protect its data or make it writeable before converting it to a tensor. This type of warning will be suppressed for the rest of this program. (Triggered internally at  /Users/distiller/project/conda/conda-bld/pytorch_1603729183814/work/torch/csrc/utils/tensor_numpy.cpp:141.)\n",
      "  return torch.from_numpy(parsed.astype(m[2], copy=False)).view(*s)\n"
     ]
    },
    {
     "name": "stdout",
     "output_type": "stream",
     "text": [
      "Done!\n"
     ]
    }
   ],
   "source": [
    "train_loader = torch.utils.data.DataLoader(datasets.MNIST('../data', train=True, download=True,\n",
    "                                           transform=transforms.Compose([\n",
    "                                           transforms.ToTensor(),\n",
    "#                                            transforms.Normalize((0.1307,), (0.3081,))\n",
    "                                           ])),\n",
    "                            batch_size=100, shuffle=True)\n",
    "\n",
    "test_loader = torch.utils.data.DataLoader(datasets.MNIST('../data', train=False, transform=transforms.Compose([\n",
    "                                       transforms.ToTensor(),\n",
    "#                                        transforms.Normalize((0.1307,), (0.3081,))\n",
    "                            ])),\n",
    "                batch_size=16, shuffle=True)"
   ]
  },
  {
   "cell_type": "code",
   "execution_count": 4,
   "metadata": {
    "slideshow": {
     "slide_type": "slide"
    }
   },
   "outputs": [],
   "source": [
    "epochs = 5\n",
    "log_interval = 100\n",
    "lr = 1e-3\n",
    "momentum = 0.9"
   ]
  },
  {
   "cell_type": "code",
   "execution_count": 5,
   "metadata": {
    "slideshow": {
     "slide_type": "slide"
    }
   },
   "outputs": [
    {
     "name": "stdout",
     "output_type": "stream",
     "text": [
      "SGD\n",
      "Train Epoch: 1 [0/60000 (0%)]\tLoss: 2.327699\n",
      "Train Epoch: 1 [10000/60000 (17%)]\tLoss: 2.324111\n",
      "Train Epoch: 1 [20000/60000 (33%)]\tLoss: 2.308685\n",
      "Train Epoch: 1 [30000/60000 (50%)]\tLoss: 2.308652\n",
      "Train Epoch: 1 [40000/60000 (67%)]\tLoss: 2.305411\n",
      "Train Epoch: 1 [50000/60000 (83%)]\tLoss: 2.295291\n"
     ]
    },
    {
     "name": "stderr",
     "output_type": "stream",
     "text": [
      "/Users/alex/anaconda3/envs/pytorch/lib/python3.6/site-packages/torch/nn/_reduction.py:44: UserWarning: size_average and reduce args will be deprecated, please use reduction='mean' instead.\n",
      "  warnings.warn(warning.format(ret))\n"
     ]
    },
    {
     "name": "stdout",
     "output_type": "stream",
     "text": [
      "\n",
      "Test set: Average loss: 0.1438, Accuracy: 1150/10000 (12%)\n",
      "\n",
      "Train Epoch: 2 [0/60000 (0%)]\tLoss: 2.295511\n",
      "Train Epoch: 2 [10000/60000 (17%)]\tLoss: 2.304995\n",
      "Train Epoch: 2 [20000/60000 (33%)]\tLoss: 2.311475\n",
      "Train Epoch: 2 [30000/60000 (50%)]\tLoss: 2.300094\n",
      "Train Epoch: 2 [40000/60000 (67%)]\tLoss: 2.303311\n",
      "Train Epoch: 2 [50000/60000 (83%)]\tLoss: 2.289284\n",
      "\n",
      "Test set: Average loss: 0.1434, Accuracy: 1506/10000 (15%)\n",
      "\n",
      "Train Epoch: 3 [0/60000 (0%)]\tLoss: 2.295503\n",
      "Train Epoch: 3 [10000/60000 (17%)]\tLoss: 2.296887\n",
      "Train Epoch: 3 [20000/60000 (33%)]\tLoss: 2.305134\n",
      "Train Epoch: 3 [30000/60000 (50%)]\tLoss: 2.299672\n",
      "Train Epoch: 3 [40000/60000 (67%)]\tLoss: 2.300355\n",
      "Train Epoch: 3 [50000/60000 (83%)]\tLoss: 2.292248\n",
      "\n",
      "Test set: Average loss: 0.1429, Accuracy: 1939/10000 (19%)\n",
      "\n",
      "Train Epoch: 4 [0/60000 (0%)]\tLoss: 2.289857\n",
      "Train Epoch: 4 [10000/60000 (17%)]\tLoss: 2.298115\n",
      "Train Epoch: 4 [20000/60000 (33%)]\tLoss: 2.305046\n",
      "Train Epoch: 4 [30000/60000 (50%)]\tLoss: 2.280045\n",
      "Train Epoch: 4 [40000/60000 (67%)]\tLoss: 2.290666\n",
      "Train Epoch: 4 [50000/60000 (83%)]\tLoss: 2.288525\n",
      "\n",
      "Test set: Average loss: 0.1423, Accuracy: 2096/10000 (21%)\n",
      "\n",
      "Train Epoch: 5 [0/60000 (0%)]\tLoss: 2.270106\n",
      "Train Epoch: 5 [10000/60000 (17%)]\tLoss: 2.291959\n",
      "Train Epoch: 5 [20000/60000 (33%)]\tLoss: 2.284425\n",
      "Train Epoch: 5 [30000/60000 (50%)]\tLoss: 2.280406\n",
      "Train Epoch: 5 [40000/60000 (67%)]\tLoss: 2.275058\n",
      "Train Epoch: 5 [50000/60000 (83%)]\tLoss: 2.261371\n",
      "\n",
      "Test set: Average loss: 0.1414, Accuracy: 2720/10000 (27%)\n",
      "\n",
      "SGD momentum\n",
      "Train Epoch: 1 [0/60000 (0%)]\tLoss: 2.314443\n",
      "Train Epoch: 1 [10000/60000 (17%)]\tLoss: 2.285660\n",
      "Train Epoch: 1 [20000/60000 (33%)]\tLoss: 2.296132\n",
      "Train Epoch: 1 [30000/60000 (50%)]\tLoss: 2.288865\n",
      "Train Epoch: 1 [40000/60000 (67%)]\tLoss: 2.226858\n",
      "Train Epoch: 1 [50000/60000 (83%)]\tLoss: 2.229398\n",
      "\n",
      "Test set: Average loss: 0.1209, Accuracy: 4900/10000 (49%)\n",
      "\n",
      "Train Epoch: 2 [0/60000 (0%)]\tLoss: 1.922151\n",
      "Train Epoch: 2 [10000/60000 (17%)]\tLoss: 1.785310\n",
      "Train Epoch: 2 [20000/60000 (33%)]\tLoss: 1.266133\n",
      "Train Epoch: 2 [30000/60000 (50%)]\tLoss: 1.190299\n",
      "Train Epoch: 2 [40000/60000 (67%)]\tLoss: 1.077784\n",
      "Train Epoch: 2 [50000/60000 (83%)]\tLoss: 0.945858\n",
      "\n",
      "Test set: Average loss: 0.0329, Accuracy: 8608/10000 (86%)\n",
      "\n",
      "Train Epoch: 3 [0/60000 (0%)]\tLoss: 0.837446\n",
      "Train Epoch: 3 [10000/60000 (17%)]\tLoss: 0.750378\n",
      "Train Epoch: 3 [20000/60000 (33%)]\tLoss: 0.763856\n",
      "Train Epoch: 3 [30000/60000 (50%)]\tLoss: 0.649130\n",
      "Train Epoch: 3 [40000/60000 (67%)]\tLoss: 0.953653\n",
      "Train Epoch: 3 [50000/60000 (83%)]\tLoss: 0.669885\n",
      "\n",
      "Test set: Average loss: 0.0231, Accuracy: 8946/10000 (89%)\n",
      "\n",
      "Train Epoch: 4 [0/60000 (0%)]\tLoss: 0.751976\n",
      "Train Epoch: 4 [10000/60000 (17%)]\tLoss: 0.597363\n",
      "Train Epoch: 4 [20000/60000 (33%)]\tLoss: 0.647514\n",
      "Train Epoch: 4 [30000/60000 (50%)]\tLoss: 0.704084\n",
      "Train Epoch: 4 [40000/60000 (67%)]\tLoss: 0.472358\n",
      "Train Epoch: 4 [50000/60000 (83%)]\tLoss: 0.758759\n",
      "\n",
      "Test set: Average loss: 0.0173, Accuracy: 9199/10000 (92%)\n",
      "\n",
      "Train Epoch: 5 [0/60000 (0%)]\tLoss: 0.526224\n",
      "Train Epoch: 5 [10000/60000 (17%)]\tLoss: 0.603364\n",
      "Train Epoch: 5 [20000/60000 (33%)]\tLoss: 0.615144\n",
      "Train Epoch: 5 [30000/60000 (50%)]\tLoss: 0.539050\n",
      "Train Epoch: 5 [40000/60000 (67%)]\tLoss: 0.424198\n",
      "Train Epoch: 5 [50000/60000 (83%)]\tLoss: 0.600535\n",
      "\n",
      "Test set: Average loss: 0.0150, Accuracy: 9328/10000 (93%)\n",
      "\n",
      "Adam\n",
      "Train Epoch: 1 [0/60000 (0%)]\tLoss: 2.299620\n",
      "Train Epoch: 1 [10000/60000 (17%)]\tLoss: 0.685053\n",
      "Train Epoch: 1 [20000/60000 (33%)]\tLoss: 0.534466\n",
      "Train Epoch: 1 [30000/60000 (50%)]\tLoss: 0.441063\n",
      "Train Epoch: 1 [40000/60000 (67%)]\tLoss: 0.441947\n",
      "Train Epoch: 1 [50000/60000 (83%)]\tLoss: 0.294694\n",
      "\n",
      "Test set: Average loss: 0.0082, Accuracy: 9600/10000 (96%)\n",
      "\n",
      "Train Epoch: 2 [0/60000 (0%)]\tLoss: 0.464416\n",
      "Train Epoch: 2 [10000/60000 (17%)]\tLoss: 0.339092\n",
      "Train Epoch: 2 [20000/60000 (33%)]\tLoss: 0.336257\n",
      "Train Epoch: 2 [30000/60000 (50%)]\tLoss: 0.194987\n",
      "Train Epoch: 2 [40000/60000 (67%)]\tLoss: 0.231376\n",
      "Train Epoch: 2 [50000/60000 (83%)]\tLoss: 0.302605\n",
      "\n",
      "Test set: Average loss: 0.0060, Accuracy: 9718/10000 (97%)\n",
      "\n",
      "Train Epoch: 3 [0/60000 (0%)]\tLoss: 0.294368\n",
      "Train Epoch: 3 [10000/60000 (17%)]\tLoss: 0.232571\n",
      "Train Epoch: 3 [20000/60000 (33%)]\tLoss: 0.292853\n",
      "Train Epoch: 3 [30000/60000 (50%)]\tLoss: 0.274103\n",
      "Train Epoch: 3 [40000/60000 (67%)]\tLoss: 0.192288\n",
      "Train Epoch: 3 [50000/60000 (83%)]\tLoss: 0.249059\n",
      "\n",
      "Test set: Average loss: 0.0046, Accuracy: 9770/10000 (98%)\n",
      "\n",
      "Train Epoch: 4 [0/60000 (0%)]\tLoss: 0.121646\n",
      "Train Epoch: 4 [10000/60000 (17%)]\tLoss: 0.213935\n",
      "Train Epoch: 4 [20000/60000 (33%)]\tLoss: 0.194797\n",
      "Train Epoch: 4 [30000/60000 (50%)]\tLoss: 0.168984\n",
      "Train Epoch: 4 [40000/60000 (67%)]\tLoss: 0.142164\n",
      "Train Epoch: 4 [50000/60000 (83%)]\tLoss: 0.241004\n",
      "\n",
      "Test set: Average loss: 0.0042, Accuracy: 9800/10000 (98%)\n",
      "\n",
      "Train Epoch: 5 [0/60000 (0%)]\tLoss: 0.113372\n",
      "Train Epoch: 5 [10000/60000 (17%)]\tLoss: 0.270632\n",
      "Train Epoch: 5 [20000/60000 (33%)]\tLoss: 0.230320\n",
      "Train Epoch: 5 [30000/60000 (50%)]\tLoss: 0.265402\n",
      "Train Epoch: 5 [40000/60000 (67%)]\tLoss: 0.216702\n",
      "Train Epoch: 5 [50000/60000 (83%)]\tLoss: 0.225494\n",
      "\n",
      "Test set: Average loss: 0.0038, Accuracy: 9833/10000 (98%)\n",
      "\n",
      "Adagrad\n",
      "Train Epoch: 1 [0/60000 (0%)]\tLoss: 2.310626\n",
      "Train Epoch: 1 [10000/60000 (17%)]\tLoss: 2.035462\n",
      "Train Epoch: 1 [20000/60000 (33%)]\tLoss: 1.773382\n",
      "Train Epoch: 1 [30000/60000 (50%)]\tLoss: 1.478992\n",
      "Train Epoch: 1 [40000/60000 (67%)]\tLoss: 1.391298\n",
      "Train Epoch: 1 [50000/60000 (83%)]\tLoss: 1.250422\n",
      "\n",
      "Test set: Average loss: 0.0524, Accuracy: 8235/10000 (82%)\n",
      "\n",
      "Train Epoch: 2 [0/60000 (0%)]\tLoss: 1.166048\n",
      "Train Epoch: 2 [10000/60000 (17%)]\tLoss: 1.072902\n",
      "Train Epoch: 2 [20000/60000 (33%)]\tLoss: 0.903249\n",
      "Train Epoch: 2 [30000/60000 (50%)]\tLoss: 1.069311\n",
      "Train Epoch: 2 [40000/60000 (67%)]\tLoss: 1.083094\n",
      "Train Epoch: 2 [50000/60000 (83%)]\tLoss: 1.028178\n",
      "\n",
      "Test set: Average loss: 0.0371, Accuracy: 8614/10000 (86%)\n",
      "\n",
      "Train Epoch: 3 [0/60000 (0%)]\tLoss: 1.131707\n",
      "Train Epoch: 3 [10000/60000 (17%)]\tLoss: 1.017243\n",
      "Train Epoch: 3 [20000/60000 (33%)]\tLoss: 0.847907\n",
      "Train Epoch: 3 [30000/60000 (50%)]\tLoss: 0.884450\n",
      "Train Epoch: 3 [40000/60000 (67%)]\tLoss: 0.926111\n",
      "Train Epoch: 3 [50000/60000 (83%)]\tLoss: 0.808596\n",
      "\n",
      "Test set: Average loss: 0.0311, Accuracy: 8735/10000 (87%)\n",
      "\n",
      "Train Epoch: 4 [0/60000 (0%)]\tLoss: 0.768357\n",
      "Train Epoch: 4 [10000/60000 (17%)]\tLoss: 0.753142\n",
      "Train Epoch: 4 [20000/60000 (33%)]\tLoss: 0.772401\n",
      "Train Epoch: 4 [30000/60000 (50%)]\tLoss: 0.672846\n",
      "Train Epoch: 4 [40000/60000 (67%)]\tLoss: 0.802666\n",
      "Train Epoch: 4 [50000/60000 (83%)]\tLoss: 0.602309\n",
      "\n",
      "Test set: Average loss: 0.0278, Accuracy: 8851/10000 (89%)\n",
      "\n",
      "Train Epoch: 5 [0/60000 (0%)]\tLoss: 0.808611\n",
      "Train Epoch: 5 [10000/60000 (17%)]\tLoss: 0.765116\n",
      "Train Epoch: 5 [20000/60000 (33%)]\tLoss: 0.823368\n",
      "Train Epoch: 5 [30000/60000 (50%)]\tLoss: 0.646831\n",
      "Train Epoch: 5 [40000/60000 (67%)]\tLoss: 0.635306\n",
      "Train Epoch: 5 [50000/60000 (83%)]\tLoss: 0.775252\n",
      "\n",
      "Test set: Average loss: 0.0257, Accuracy: 8914/10000 (89%)\n",
      "\n"
     ]
    }
   ],
   "source": [
    "models = {\n",
    "    \"SGD\": Net(),\n",
    "    \"SGD momentum\": Net(),\n",
    "    \"Adam\": Net(),\n",
    "    \"Adagrad\": Net()\n",
    "}\n",
    "\n",
    "optimizers = {\n",
    "    \"SGD\": optim.SGD(models[\"SGD\"].parameters(), lr=lr),\n",
    "    \"SGD momentum\": optim.SGD(models[\"SGD momentum\"].parameters(), lr=lr, momentum=momentum),\n",
    "    \"Adam\": optim.Adam(models[\"Adam\"].parameters(), lr=lr),\n",
    "    \"Adagrad\": optim.Adagrad(models[\"Adagrad\"].parameters(), lr=lr)\n",
    "}\n",
    "conv = {opt_name: [] for opt_name in optimizers}\n",
    "for opt in optimizers:\n",
    "    print(opt)\n",
    "    for epoch in range(1, epochs + 1):\n",
    "        cur_conv = train(models[opt], train_loader, optimizers[opt], epoch, log_interval)\n",
    "        conv[opt] = conv[opt] + cur_conv\n",
    "#         display.clear_output(wait=True)\n",
    "#         plt.plot(conv)\n",
    "#     #     plt.yscale(\"log\")\n",
    "#         plt.show()\n",
    "        test(models[opt], test_loader)"
   ]
  },
  {
   "cell_type": "code",
   "execution_count": 6,
   "metadata": {
    "slideshow": {
     "slide_type": "slide"
    }
   },
   "outputs": [
    {
     "data": {
      "text/plain": [
       "<matplotlib.legend.Legend at 0x7f874f206f60>"
      ]
     },
     "execution_count": 6,
     "metadata": {},
     "output_type": "execute_result"
    },
    {
     "data": {
      "image/png": "[encoded data removed]",
      "text/plain": [
       "<Figure size 432x288 with 1 Axes>"
      ]
     },
     "metadata": {
      "needs_background": "light"
     },
     "output_type": "display_data"
    }
   ],
   "source": [
    "for opt_name in conv:\n",
    "    plt.plot(conv[opt_name], label=opt_name)\n",
    "plt.legend()"
   ]
  }
 ],
 "metadata": {
  "celltoolbar": "Slideshow",
  "kernelspec": {
   "display_name": "Python (pytorch)",
   "language": "python",
   "name": "pytorch"
  },
  "language_info": {
   "codemirror_mode": {
    "name": "ipython",
    "version": 3
   },
   "file_extension": ".py",
   "mimetype": "text/x-python",
   "name": "python",
   "nbconvert_exporter": "python",
   "pygments_lexer": "ipython3",
   "version": "3.6.10"
  }
 },
 "nbformat": 4,
 "nbformat_minor": 2
}
